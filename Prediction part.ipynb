{
 "cells": [
  {
   "cell_type": "code",
   "execution_count": 4,
   "metadata": {
    "collapsed": true
   },
   "outputs": [],
   "source": [
    "######## Import useful libraries ###########\n",
    "\n",
    "\n",
    "import pandas as pd\n",
    "import pickle\n",
    "import matplotlib.pyplot as plt\n",
    "import numpy as np\n",
    "import matplotlib\n",
    "\n",
    "%matplotlib inline "
   ]
  },
  {
   "cell_type": "markdown",
   "metadata": {
    "collapsed": true
   },
   "source": [
    "# Predictive model"
   ]
  },
  {
   "cell_type": "markdown",
   "metadata": {},
   "source": [
    "## I. Preparing Tabular Data"
   ]
  },
  {
   "cell_type": "markdown",
   "metadata": {},
   "source": [
    "#### Upload pickled data"
   ]
  },
  {
   "cell_type": "code",
   "execution_count": 80,
   "metadata": {
    "collapsed": true
   },
   "outputs": [],
   "source": [
    "# Opening the Pickle train data set X\n",
    "with open(\"train_TFIDF_SVD.pickle\", 'rb') as f:\n",
    "    train = pickle.load(f)"
   ]
  },
  {
   "cell_type": "code",
   "execution_count": 81,
   "metadata": {
    "collapsed": true
   },
   "outputs": [],
   "source": [
    "# Opening the Pickle validation set X\n",
    "with open(\"test_TFIDF_SVD.pickle\", 'rb') as f:\n",
    "    test = pickle.load(f)"
   ]
  },
  {
   "cell_type": "code",
   "execution_count": 83,
   "metadata": {
    "collapsed": true
   },
   "outputs": [],
   "source": [
    "train['log_price'] = np.log1p(train['price'])\n",
    "test['log_price'] = np.log1p(test['price'])"
   ]
  },
  {
   "cell_type": "code",
   "execution_count": 84,
   "metadata": {},
   "outputs": [
    {
     "data": {
      "text/html": [
       "<div>\n",
       "<style>\n",
       "    .dataframe thead tr:only-child th {\n",
       "        text-align: right;\n",
       "    }\n",
       "\n",
       "    .dataframe thead th {\n",
       "        text-align: left;\n",
       "    }\n",
       "\n",
       "    .dataframe tbody tr th {\n",
       "        vertical-align: top;\n",
       "    }\n",
       "</style>\n",
       "<table border=\"1\" class=\"dataframe\">\n",
       "  <thead>\n",
       "    <tr style=\"text-align: right;\">\n",
       "      <th></th>\n",
       "      <th>name</th>\n",
       "      <th>item_condition_id</th>\n",
       "      <th>main_cat</th>\n",
       "      <th>subcat_1</th>\n",
       "      <th>subcat_2</th>\n",
       "      <th>brand_name</th>\n",
       "      <th>price</th>\n",
       "      <th>shipping</th>\n",
       "      <th>item_description</th>\n",
       "      <th>TFIDF_feature_1</th>\n",
       "      <th>...</th>\n",
       "      <th>TFIDF_feature_12</th>\n",
       "      <th>TFIDF_feature_13</th>\n",
       "      <th>TFIDF_feature_14</th>\n",
       "      <th>TFIDF_feature_15</th>\n",
       "      <th>TFIDF_feature_16</th>\n",
       "      <th>TFIDF_feature_17</th>\n",
       "      <th>TFIDF_feature_18</th>\n",
       "      <th>TFIDF_feature_19</th>\n",
       "      <th>TFIDF_feature_20</th>\n",
       "      <th>log_price</th>\n",
       "    </tr>\n",
       "  </thead>\n",
       "  <tbody>\n",
       "    <tr>\n",
       "      <th>1</th>\n",
       "      <td>Razer BlackWidow Chroma Keyboard</td>\n",
       "      <td>3</td>\n",
       "      <td>Electronics</td>\n",
       "      <td>Computers &amp; Tablets</td>\n",
       "      <td>Components &amp; Parts</td>\n",
       "      <td>Razer</td>\n",
       "      <td>52.0</td>\n",
       "      <td>0</td>\n",
       "      <td>This keyboard is in great condition and works ...</td>\n",
       "      <td>0.003809</td>\n",
       "      <td>...</td>\n",
       "      <td>-0.018905</td>\n",
       "      <td>-0.014720</td>\n",
       "      <td>0.073910</td>\n",
       "      <td>0.024175</td>\n",
       "      <td>-0.049895</td>\n",
       "      <td>-0.031660</td>\n",
       "      <td>-0.019666</td>\n",
       "      <td>-0.007581</td>\n",
       "      <td>0.021695</td>\n",
       "      <td>3.970292</td>\n",
       "    </tr>\n",
       "    <tr>\n",
       "      <th>2</th>\n",
       "      <td>AVA-VIV Blouse</td>\n",
       "      <td>1</td>\n",
       "      <td>Women</td>\n",
       "      <td>Tops &amp; Blouses</td>\n",
       "      <td>Blouse</td>\n",
       "      <td>Target</td>\n",
       "      <td>10.0</td>\n",
       "      <td>1</td>\n",
       "      <td>Adorable top with a hint of lace and a key hol...</td>\n",
       "      <td>0.002652</td>\n",
       "      <td>...</td>\n",
       "      <td>-0.029146</td>\n",
       "      <td>-0.033790</td>\n",
       "      <td>0.042279</td>\n",
       "      <td>-0.021650</td>\n",
       "      <td>-0.004137</td>\n",
       "      <td>-0.014702</td>\n",
       "      <td>-0.046847</td>\n",
       "      <td>0.007405</td>\n",
       "      <td>-0.002259</td>\n",
       "      <td>2.397895</td>\n",
       "    </tr>\n",
       "    <tr>\n",
       "      <th>6</th>\n",
       "      <td>Acacia pacific tides santorini top</td>\n",
       "      <td>3</td>\n",
       "      <td>Women</td>\n",
       "      <td>Swimwear</td>\n",
       "      <td>Two-Piece</td>\n",
       "      <td>Acacia Swimwear</td>\n",
       "      <td>64.0</td>\n",
       "      <td>0</td>\n",
       "      <td>Size small but straps slightly shortened to fi...</td>\n",
       "      <td>0.006558</td>\n",
       "      <td>...</td>\n",
       "      <td>-0.000776</td>\n",
       "      <td>-0.051565</td>\n",
       "      <td>0.001984</td>\n",
       "      <td>0.099189</td>\n",
       "      <td>0.134654</td>\n",
       "      <td>-0.028019</td>\n",
       "      <td>0.004314</td>\n",
       "      <td>0.052799</td>\n",
       "      <td>0.047139</td>\n",
       "      <td>4.174387</td>\n",
       "    </tr>\n",
       "  </tbody>\n",
       "</table>\n",
       "<p>3 rows × 30 columns</p>\n",
       "</div>"
      ],
      "text/plain": [
       "                                 name  item_condition_id     main_cat  \\\n",
       "1    Razer BlackWidow Chroma Keyboard                  3  Electronics   \n",
       "2                      AVA-VIV Blouse                  1        Women   \n",
       "6  Acacia pacific tides santorini top                  3        Women   \n",
       "\n",
       "              subcat_1            subcat_2       brand_name  price  shipping  \\\n",
       "1  Computers & Tablets  Components & Parts            Razer   52.0         0   \n",
       "2       Tops & Blouses              Blouse           Target   10.0         1   \n",
       "6             Swimwear           Two-Piece  Acacia Swimwear   64.0         0   \n",
       "\n",
       "                                    item_description  TFIDF_feature_1  \\\n",
       "1  This keyboard is in great condition and works ...         0.003809   \n",
       "2  Adorable top with a hint of lace and a key hol...         0.002652   \n",
       "6  Size small but straps slightly shortened to fi...         0.006558   \n",
       "\n",
       "     ...      TFIDF_feature_12  TFIDF_feature_13  TFIDF_feature_14  \\\n",
       "1    ...             -0.018905         -0.014720          0.073910   \n",
       "2    ...             -0.029146         -0.033790          0.042279   \n",
       "6    ...             -0.000776         -0.051565          0.001984   \n",
       "\n",
       "   TFIDF_feature_15  TFIDF_feature_16  TFIDF_feature_17  TFIDF_feature_18  \\\n",
       "1          0.024175         -0.049895         -0.031660         -0.019666   \n",
       "2         -0.021650         -0.004137         -0.014702         -0.046847   \n",
       "6          0.099189          0.134654         -0.028019          0.004314   \n",
       "\n",
       "   TFIDF_feature_19  TFIDF_feature_20  log_price  \n",
       "1         -0.007581          0.021695   3.970292  \n",
       "2          0.007405         -0.002259   2.397895  \n",
       "6          0.052799          0.047139   4.174387  \n",
       "\n",
       "[3 rows x 30 columns]"
      ]
     },
     "execution_count": 84,
     "metadata": {},
     "output_type": "execute_result"
    }
   ],
   "source": [
    "train.head(3)"
   ]
  },
  {
   "cell_type": "markdown",
   "metadata": {},
   "source": [
    "#### 2) Splitting data into training and validation sets"
   ]
  },
  {
   "cell_type": "code",
   "execution_count": null,
   "metadata": {
    "collapsed": true
   },
   "outputs": [],
   "source": [
    "# I skip this part because I will use a SVD decomposition for description "
   ]
  },
  {
   "cell_type": "raw",
   "metadata": {},
   "source": [
    "from sklearn.cross_validation import StratifiedKFold\n",
    "#choosing 80% of data for training set and the rest for test\n",
    "eval_size = 0.20\n",
    "kf = StratifiedKFold(data_mercari.log_price, round(1./eval_size))\n",
    "train_indices, valid_indices = next(iter(kf))\n",
    "train, test = data_mercari.loc[train_indices, :], data_mercari.loc[valid_indices, :]"
   ]
  },
  {
   "cell_type": "raw",
   "metadata": {},
   "source": [
    "print(\"Number of rows in train part:\", len(train), \"and number of Rows in test part:\", len(test))"
   ]
  },
  {
   "cell_type": "markdown",
   "metadata": {},
   "source": [
    "#### 3) Dealing with categorical variables"
   ]
  },
  {
   "cell_type": "code",
   "execution_count": 85,
   "metadata": {},
   "outputs": [
    {
     "name": "stdout",
     "output_type": "stream",
     "text": [
      "Handling categorical variables for train set...\n",
      "Finished!\n"
     ]
    }
   ],
   "source": [
    "# Train set\n",
    "from sklearn.preprocessing import LabelEncoder\n",
    "\n",
    "print(\"Handling categorical variables for train set...\")\n",
    "lbl_enc = LabelEncoder()\n",
    "\n",
    "lbl_enc.fit(np.hstack([train.brand_name, train.main_cat, train.subcat_1, train.subcat_2]))\n",
    "train['brand'] = lbl_enc.transform(train.brand_name)\n",
    "train['category_1'] = lbl_enc.transform(train.main_cat)\n",
    "train['category_2'] = lbl_enc.transform(train.subcat_1)\n",
    "train['category_3'] = lbl_enc.transform(train.subcat_2)\n",
    "\n",
    "print(\"Finished!\")"
   ]
  },
  {
   "cell_type": "code",
   "execution_count": 86,
   "metadata": {},
   "outputs": [
    {
     "name": "stdout",
     "output_type": "stream",
     "text": [
      "Handling categorical variables for test set...\n",
      "Finished!\n"
     ]
    }
   ],
   "source": [
    "# Validation set\n",
    "print(\"Handling categorical variables for test set...\")\n",
    "#lbl_enc = LabelEncoder()\n",
    "\n",
    "lbl_enc.fit(np.hstack([test.brand_name, test.main_cat, test.subcat_1, test.subcat_2]))\n",
    "test['brand'] = lbl_enc.transform(test.brand_name)\n",
    "test['category_1'] = lbl_enc.transform(test.main_cat)\n",
    "test['category_2'] = lbl_enc.transform(test.subcat_1)\n",
    "test['category_3'] = lbl_enc.transform(test.subcat_2)\n",
    "\n",
    "\n",
    "print(\"Finished!\")"
   ]
  },
  {
   "cell_type": "code",
   "execution_count": 88,
   "metadata": {},
   "outputs": [
    {
     "data": {
      "text/html": [
       "<div>\n",
       "<style>\n",
       "    .dataframe thead tr:only-child th {\n",
       "        text-align: right;\n",
       "    }\n",
       "\n",
       "    .dataframe thead th {\n",
       "        text-align: left;\n",
       "    }\n",
       "\n",
       "    .dataframe tbody tr th {\n",
       "        vertical-align: top;\n",
       "    }\n",
       "</style>\n",
       "<table border=\"1\" class=\"dataframe\">\n",
       "  <thead>\n",
       "    <tr style=\"text-align: right;\">\n",
       "      <th></th>\n",
       "      <th>name</th>\n",
       "      <th>item_condition_id</th>\n",
       "      <th>main_cat</th>\n",
       "      <th>subcat_1</th>\n",
       "      <th>subcat_2</th>\n",
       "      <th>brand_name</th>\n",
       "      <th>price</th>\n",
       "      <th>shipping</th>\n",
       "      <th>item_description</th>\n",
       "      <th>TFIDF_feature_1</th>\n",
       "      <th>...</th>\n",
       "      <th>TFIDF_feature_16</th>\n",
       "      <th>TFIDF_feature_17</th>\n",
       "      <th>TFIDF_feature_18</th>\n",
       "      <th>TFIDF_feature_19</th>\n",
       "      <th>TFIDF_feature_20</th>\n",
       "      <th>log_price</th>\n",
       "      <th>brand</th>\n",
       "      <th>category_1</th>\n",
       "      <th>category_2</th>\n",
       "      <th>category_3</th>\n",
       "    </tr>\n",
       "  </thead>\n",
       "  <tbody>\n",
       "    <tr>\n",
       "      <th>1</th>\n",
       "      <td>Razer BlackWidow Chroma Keyboard</td>\n",
       "      <td>3</td>\n",
       "      <td>Electronics</td>\n",
       "      <td>Computers &amp; Tablets</td>\n",
       "      <td>Components &amp; Parts</td>\n",
       "      <td>Razer</td>\n",
       "      <td>52.0</td>\n",
       "      <td>0</td>\n",
       "      <td>This keyboard is in great condition and works ...</td>\n",
       "      <td>0.003809</td>\n",
       "      <td>...</td>\n",
       "      <td>-0.049895</td>\n",
       "      <td>-0.031660</td>\n",
       "      <td>-0.019666</td>\n",
       "      <td>-0.007581</td>\n",
       "      <td>0.021695</td>\n",
       "      <td>3.970292</td>\n",
       "      <td>3840</td>\n",
       "      <td>1541</td>\n",
       "      <td>1157</td>\n",
       "      <td>1155</td>\n",
       "    </tr>\n",
       "    <tr>\n",
       "      <th>2</th>\n",
       "      <td>AVA-VIV Blouse</td>\n",
       "      <td>1</td>\n",
       "      <td>Women</td>\n",
       "      <td>Tops &amp; Blouses</td>\n",
       "      <td>Blouse</td>\n",
       "      <td>Target</td>\n",
       "      <td>10.0</td>\n",
       "      <td>1</td>\n",
       "      <td>Adorable top with a hint of lace and a key hol...</td>\n",
       "      <td>0.002652</td>\n",
       "      <td>...</td>\n",
       "      <td>-0.004137</td>\n",
       "      <td>-0.014702</td>\n",
       "      <td>-0.046847</td>\n",
       "      <td>0.007405</td>\n",
       "      <td>-0.002259</td>\n",
       "      <td>2.397895</td>\n",
       "      <td>4522</td>\n",
       "      <td>5013</td>\n",
       "      <td>4678</td>\n",
       "      <td>641</td>\n",
       "    </tr>\n",
       "    <tr>\n",
       "      <th>6</th>\n",
       "      <td>Acacia pacific tides santorini top</td>\n",
       "      <td>3</td>\n",
       "      <td>Women</td>\n",
       "      <td>Swimwear</td>\n",
       "      <td>Two-Piece</td>\n",
       "      <td>Acacia Swimwear</td>\n",
       "      <td>64.0</td>\n",
       "      <td>0</td>\n",
       "      <td>Size small but straps slightly shortened to fi...</td>\n",
       "      <td>0.006558</td>\n",
       "      <td>...</td>\n",
       "      <td>0.134654</td>\n",
       "      <td>-0.028019</td>\n",
       "      <td>0.004314</td>\n",
       "      <td>0.052799</td>\n",
       "      <td>0.047139</td>\n",
       "      <td>4.174387</td>\n",
       "      <td>77</td>\n",
       "      <td>5013</td>\n",
       "      <td>4469</td>\n",
       "      <td>4767</td>\n",
       "    </tr>\n",
       "  </tbody>\n",
       "</table>\n",
       "<p>3 rows × 34 columns</p>\n",
       "</div>"
      ],
      "text/plain": [
       "                                 name  item_condition_id     main_cat  \\\n",
       "1    Razer BlackWidow Chroma Keyboard                  3  Electronics   \n",
       "2                      AVA-VIV Blouse                  1        Women   \n",
       "6  Acacia pacific tides santorini top                  3        Women   \n",
       "\n",
       "              subcat_1            subcat_2       brand_name  price  shipping  \\\n",
       "1  Computers & Tablets  Components & Parts            Razer   52.0         0   \n",
       "2       Tops & Blouses              Blouse           Target   10.0         1   \n",
       "6             Swimwear           Two-Piece  Acacia Swimwear   64.0         0   \n",
       "\n",
       "                                    item_description  TFIDF_feature_1  \\\n",
       "1  This keyboard is in great condition and works ...         0.003809   \n",
       "2  Adorable top with a hint of lace and a key hol...         0.002652   \n",
       "6  Size small but straps slightly shortened to fi...         0.006558   \n",
       "\n",
       "      ...      TFIDF_feature_16  TFIDF_feature_17  TFIDF_feature_18  \\\n",
       "1     ...             -0.049895         -0.031660         -0.019666   \n",
       "2     ...             -0.004137         -0.014702         -0.046847   \n",
       "6     ...              0.134654         -0.028019          0.004314   \n",
       "\n",
       "   TFIDF_feature_19  TFIDF_feature_20  log_price  brand  category_1  \\\n",
       "1         -0.007581          0.021695   3.970292   3840        1541   \n",
       "2          0.007405         -0.002259   2.397895   4522        5013   \n",
       "6          0.052799          0.047139   4.174387     77        5013   \n",
       "\n",
       "   category_2  category_3  \n",
       "1        1157        1155  \n",
       "2        4678         641  \n",
       "6        4469        4767  \n",
       "\n",
       "[3 rows x 34 columns]"
      ]
     },
     "execution_count": 88,
     "metadata": {},
     "output_type": "execute_result"
    }
   ],
   "source": [
    "train.head(3)"
   ]
  },
  {
   "cell_type": "markdown",
   "metadata": {},
   "source": [
    "#### 4) Vectorising the item full description"
   ]
  },
  {
   "cell_type": "code",
   "execution_count": null,
   "metadata": {
    "collapsed": true
   },
   "outputs": [],
   "source": [
    "# I skip this part because I will use a SVD decomposition for description "
   ]
  },
  {
   "cell_type": "raw",
   "metadata": {},
   "source": [
    "from keras.preprocessing.text import Tokenizer"
   ]
  },
  {
   "cell_type": "raw",
   "metadata": {},
   "source": [
    "print(\"Transforming text from train set to sequence...\")\n",
    "text = np.hstack([train.name.str.lower(), train.item_description.str.lower()])\n",
    "\n",
    "tk = Tokenizer()\n",
    "tk.fit_on_texts(text)\n",
    "\n",
    "train[\"seq_category_name\"] = tk.texts_to_sequences(train.name.str.lower())\n",
    "train[\"seq_item_description\"] = tk.texts_to_sequences(train.item_description.str.lower())\n",
    "\n",
    "print(\"Finished!\")"
   ]
  },
  {
   "cell_type": "raw",
   "metadata": {},
   "source": [
    "print(\"Transforming text from train set to sequence...\")\n",
    "text = np.hstack([test.name.str.lower(), test.item_description.str.lower()])\n",
    "\n",
    "tk.fit_on_texts(text)\n",
    "\n",
    "test[\"seq_category_name\"] = tk.texts_to_sequences(test.name.str.lower())\n",
    "test[\"seq_item_description\"] = tk.texts_to_sequences(test.item_description.str.lower())\n",
    "\n",
    "print(\"Finished!\")"
   ]
  },
  {
   "cell_type": "markdown",
   "metadata": {},
   "source": [
    "#### 5) Forming final sets"
   ]
  },
  {
   "cell_type": "code",
   "execution_count": 116,
   "metadata": {},
   "outputs": [],
   "source": [
    "y_train = train.log_price\n",
    "y_valid = test.log_price\n",
    "X_train = train.drop(['name','main_cat', 'subcat_1', 'subcat_2', 'brand_name', 'price', 'item_description', 'log_price'], axis=1)\n",
    "X_valid = test.drop(['name','main_cat', 'subcat_1', 'subcat_2', 'brand_name', 'price', 'item_description', 'log_price'], axis=1)"
   ]
  },
  {
   "cell_type": "code",
   "execution_count": 117,
   "metadata": {},
   "outputs": [
    {
     "data": {
      "text/html": [
       "<div>\n",
       "<style>\n",
       "    .dataframe thead tr:only-child th {\n",
       "        text-align: right;\n",
       "    }\n",
       "\n",
       "    .dataframe thead th {\n",
       "        text-align: left;\n",
       "    }\n",
       "\n",
       "    .dataframe tbody tr th {\n",
       "        vertical-align: top;\n",
       "    }\n",
       "</style>\n",
       "<table border=\"1\" class=\"dataframe\">\n",
       "  <thead>\n",
       "    <tr style=\"text-align: right;\">\n",
       "      <th></th>\n",
       "      <th>item_condition_id</th>\n",
       "      <th>shipping</th>\n",
       "      <th>TFIDF_feature_1</th>\n",
       "      <th>TFIDF_feature_2</th>\n",
       "      <th>TFIDF_feature_3</th>\n",
       "      <th>TFIDF_feature_4</th>\n",
       "      <th>TFIDF_feature_5</th>\n",
       "      <th>TFIDF_feature_6</th>\n",
       "      <th>TFIDF_feature_7</th>\n",
       "      <th>TFIDF_feature_8</th>\n",
       "      <th>...</th>\n",
       "      <th>TFIDF_feature_15</th>\n",
       "      <th>TFIDF_feature_16</th>\n",
       "      <th>TFIDF_feature_17</th>\n",
       "      <th>TFIDF_feature_18</th>\n",
       "      <th>TFIDF_feature_19</th>\n",
       "      <th>TFIDF_feature_20</th>\n",
       "      <th>brand</th>\n",
       "      <th>category_1</th>\n",
       "      <th>category_2</th>\n",
       "      <th>category_3</th>\n",
       "    </tr>\n",
       "  </thead>\n",
       "  <tbody>\n",
       "    <tr>\n",
       "      <th>1</th>\n",
       "      <td>3</td>\n",
       "      <td>0</td>\n",
       "      <td>0.003809</td>\n",
       "      <td>0.072029</td>\n",
       "      <td>-0.060521</td>\n",
       "      <td>-0.069545</td>\n",
       "      <td>0.038071</td>\n",
       "      <td>-0.010755</td>\n",
       "      <td>-0.043477</td>\n",
       "      <td>0.086733</td>\n",
       "      <td>...</td>\n",
       "      <td>0.024175</td>\n",
       "      <td>-0.049895</td>\n",
       "      <td>-0.031660</td>\n",
       "      <td>-0.019666</td>\n",
       "      <td>-0.007581</td>\n",
       "      <td>0.021695</td>\n",
       "      <td>3840</td>\n",
       "      <td>1541</td>\n",
       "      <td>1157</td>\n",
       "      <td>1155</td>\n",
       "    </tr>\n",
       "    <tr>\n",
       "      <th>2</th>\n",
       "      <td>1</td>\n",
       "      <td>1</td>\n",
       "      <td>0.002652</td>\n",
       "      <td>0.052031</td>\n",
       "      <td>-0.023326</td>\n",
       "      <td>0.020730</td>\n",
       "      <td>-0.052213</td>\n",
       "      <td>0.020922</td>\n",
       "      <td>0.003852</td>\n",
       "      <td>0.013506</td>\n",
       "      <td>...</td>\n",
       "      <td>-0.021650</td>\n",
       "      <td>-0.004137</td>\n",
       "      <td>-0.014702</td>\n",
       "      <td>-0.046847</td>\n",
       "      <td>0.007405</td>\n",
       "      <td>-0.002259</td>\n",
       "      <td>4522</td>\n",
       "      <td>5013</td>\n",
       "      <td>4678</td>\n",
       "      <td>641</td>\n",
       "    </tr>\n",
       "    <tr>\n",
       "      <th>6</th>\n",
       "      <td>3</td>\n",
       "      <td>0</td>\n",
       "      <td>0.006558</td>\n",
       "      <td>0.143947</td>\n",
       "      <td>-0.142753</td>\n",
       "      <td>0.012790</td>\n",
       "      <td>-0.079155</td>\n",
       "      <td>-0.090236</td>\n",
       "      <td>0.027279</td>\n",
       "      <td>0.008431</td>\n",
       "      <td>...</td>\n",
       "      <td>0.099189</td>\n",
       "      <td>0.134654</td>\n",
       "      <td>-0.028019</td>\n",
       "      <td>0.004314</td>\n",
       "      <td>0.052799</td>\n",
       "      <td>0.047139</td>\n",
       "      <td>77</td>\n",
       "      <td>5013</td>\n",
       "      <td>4469</td>\n",
       "      <td>4767</td>\n",
       "    </tr>\n",
       "  </tbody>\n",
       "</table>\n",
       "<p>3 rows × 26 columns</p>\n",
       "</div>"
      ],
      "text/plain": [
       "   item_condition_id  shipping  TFIDF_feature_1  TFIDF_feature_2  \\\n",
       "1                  3         0         0.003809         0.072029   \n",
       "2                  1         1         0.002652         0.052031   \n",
       "6                  3         0         0.006558         0.143947   \n",
       "\n",
       "   TFIDF_feature_3  TFIDF_feature_4  TFIDF_feature_5  TFIDF_feature_6  \\\n",
       "1        -0.060521        -0.069545         0.038071        -0.010755   \n",
       "2        -0.023326         0.020730        -0.052213         0.020922   \n",
       "6        -0.142753         0.012790        -0.079155        -0.090236   \n",
       "\n",
       "   TFIDF_feature_7  TFIDF_feature_8     ...      TFIDF_feature_15  \\\n",
       "1        -0.043477         0.086733     ...              0.024175   \n",
       "2         0.003852         0.013506     ...             -0.021650   \n",
       "6         0.027279         0.008431     ...              0.099189   \n",
       "\n",
       "   TFIDF_feature_16  TFIDF_feature_17  TFIDF_feature_18  TFIDF_feature_19  \\\n",
       "1         -0.049895         -0.031660         -0.019666         -0.007581   \n",
       "2         -0.004137         -0.014702         -0.046847          0.007405   \n",
       "6          0.134654         -0.028019          0.004314          0.052799   \n",
       "\n",
       "   TFIDF_feature_20  brand  category_1  category_2  category_3  \n",
       "1          0.021695   3840        1541        1157        1155  \n",
       "2         -0.002259   4522        5013        4678         641  \n",
       "6          0.047139     77        5013        4469        4767  \n",
       "\n",
       "[3 rows x 26 columns]"
      ]
     },
     "execution_count": 117,
     "metadata": {},
     "output_type": "execute_result"
    }
   ],
   "source": [
    "X_train.head(3)"
   ]
  },
  {
   "cell_type": "code",
   "execution_count": 118,
   "metadata": {},
   "outputs": [
    {
     "data": {
      "text/plain": [
       "1    3.970292\n",
       "2    2.397895\n",
       "6    4.174387\n",
       "Name: log_price, dtype: float64"
      ]
     },
     "execution_count": 118,
     "metadata": {},
     "output_type": "execute_result"
    }
   ],
   "source": [
    "y_train.head(3)"
   ]
  },
  {
   "cell_type": "markdown",
   "metadata": {},
   "source": [
    "#### 6) Saving pickle"
   ]
  },
  {
   "cell_type": "code",
   "execution_count": 119,
   "metadata": {
    "collapsed": true
   },
   "outputs": [],
   "source": [
    "#Saving our data-sets\n",
    "y_train.to_pickle(\"y_train.pickle\")\n",
    "y_valid.to_pickle(\"y_valid.pickle\")\n",
    "X_train.to_pickle(\"X_train.pickle\")\n",
    "X_valid.to_pickle(\"X_valid.pickle\")"
   ]
  },
  {
   "cell_type": "markdown",
   "metadata": {},
   "source": [
    "## II. Fitting a predictive model"
   ]
  },
  {
   "cell_type": "raw",
   "metadata": {},
   "source": [
    "# Uncomment if you have stored data to unpickle it"
   ]
  },
  {
   "cell_type": "raw",
   "metadata": {
    "collapsed": true
   },
   "source": [
    "# Opening the Pickle train data set X\n",
    "with open(\"X_train.pickle\", 'rb') as f:\n",
    "    X_train = pickle.load(f)"
   ]
  },
  {
   "cell_type": "raw",
   "metadata": {
    "collapsed": true
   },
   "source": [
    "# Opening the Pickle train data set y\n",
    "with open(\"y_train.pickle\", 'rb') as f:\n",
    "    y_train = pickle.load(f)"
   ]
  },
  {
   "cell_type": "raw",
   "metadata": {
    "collapsed": true
   },
   "source": [
    "# Opening the Pickle validation set X\n",
    "with open(\"X_valid.pickle\", 'rb') as f:\n",
    "    X_valid = pickle.load(f)"
   ]
  },
  {
   "cell_type": "raw",
   "metadata": {
    "collapsed": true
   },
   "source": [
    "# Opening the Pickle test data set y\n",
    "with open(\"y_valid.pickle\", 'rb') as f:\n",
    "    y_valid = pickle.load(f)"
   ]
  },
  {
   "cell_type": "code",
   "execution_count": 96,
   "metadata": {},
   "outputs": [
    {
     "data": {
      "text/html": [
       "<div>\n",
       "<style>\n",
       "    .dataframe thead tr:only-child th {\n",
       "        text-align: right;\n",
       "    }\n",
       "\n",
       "    .dataframe thead th {\n",
       "        text-align: left;\n",
       "    }\n",
       "\n",
       "    .dataframe tbody tr th {\n",
       "        vertical-align: top;\n",
       "    }\n",
       "</style>\n",
       "<table border=\"1\" class=\"dataframe\">\n",
       "  <thead>\n",
       "    <tr style=\"text-align: right;\">\n",
       "      <th></th>\n",
       "      <th>item_condition_id</th>\n",
       "      <th>shipping</th>\n",
       "      <th>TFIDF_feature_1</th>\n",
       "      <th>TFIDF_feature_2</th>\n",
       "      <th>TFIDF_feature_3</th>\n",
       "      <th>TFIDF_feature_4</th>\n",
       "      <th>TFIDF_feature_5</th>\n",
       "      <th>TFIDF_feature_6</th>\n",
       "      <th>TFIDF_feature_7</th>\n",
       "      <th>TFIDF_feature_8</th>\n",
       "      <th>...</th>\n",
       "      <th>TFIDF_feature_16</th>\n",
       "      <th>TFIDF_feature_17</th>\n",
       "      <th>TFIDF_feature_18</th>\n",
       "      <th>TFIDF_feature_19</th>\n",
       "      <th>TFIDF_feature_20</th>\n",
       "      <th>log_price</th>\n",
       "      <th>brand</th>\n",
       "      <th>category_1</th>\n",
       "      <th>category_2</th>\n",
       "      <th>category_3</th>\n",
       "    </tr>\n",
       "  </thead>\n",
       "  <tbody>\n",
       "    <tr>\n",
       "      <th>1</th>\n",
       "      <td>3</td>\n",
       "      <td>0</td>\n",
       "      <td>0.003809</td>\n",
       "      <td>0.072029</td>\n",
       "      <td>-0.060521</td>\n",
       "      <td>-0.069545</td>\n",
       "      <td>0.038071</td>\n",
       "      <td>-0.010755</td>\n",
       "      <td>-0.043477</td>\n",
       "      <td>0.086733</td>\n",
       "      <td>...</td>\n",
       "      <td>-0.049895</td>\n",
       "      <td>-0.031660</td>\n",
       "      <td>-0.019666</td>\n",
       "      <td>-0.007581</td>\n",
       "      <td>0.021695</td>\n",
       "      <td>3.970292</td>\n",
       "      <td>3840</td>\n",
       "      <td>1541</td>\n",
       "      <td>1157</td>\n",
       "      <td>1155</td>\n",
       "    </tr>\n",
       "    <tr>\n",
       "      <th>2</th>\n",
       "      <td>1</td>\n",
       "      <td>1</td>\n",
       "      <td>0.002652</td>\n",
       "      <td>0.052031</td>\n",
       "      <td>-0.023326</td>\n",
       "      <td>0.020730</td>\n",
       "      <td>-0.052213</td>\n",
       "      <td>0.020922</td>\n",
       "      <td>0.003852</td>\n",
       "      <td>0.013506</td>\n",
       "      <td>...</td>\n",
       "      <td>-0.004137</td>\n",
       "      <td>-0.014702</td>\n",
       "      <td>-0.046847</td>\n",
       "      <td>0.007405</td>\n",
       "      <td>-0.002259</td>\n",
       "      <td>2.397895</td>\n",
       "      <td>4522</td>\n",
       "      <td>5013</td>\n",
       "      <td>4678</td>\n",
       "      <td>641</td>\n",
       "    </tr>\n",
       "    <tr>\n",
       "      <th>6</th>\n",
       "      <td>3</td>\n",
       "      <td>0</td>\n",
       "      <td>0.006558</td>\n",
       "      <td>0.143947</td>\n",
       "      <td>-0.142753</td>\n",
       "      <td>0.012790</td>\n",
       "      <td>-0.079155</td>\n",
       "      <td>-0.090236</td>\n",
       "      <td>0.027279</td>\n",
       "      <td>0.008431</td>\n",
       "      <td>...</td>\n",
       "      <td>0.134654</td>\n",
       "      <td>-0.028019</td>\n",
       "      <td>0.004314</td>\n",
       "      <td>0.052799</td>\n",
       "      <td>0.047139</td>\n",
       "      <td>4.174387</td>\n",
       "      <td>77</td>\n",
       "      <td>5013</td>\n",
       "      <td>4469</td>\n",
       "      <td>4767</td>\n",
       "    </tr>\n",
       "  </tbody>\n",
       "</table>\n",
       "<p>3 rows × 27 columns</p>\n",
       "</div>"
      ],
      "text/plain": [
       "   item_condition_id  shipping  TFIDF_feature_1  TFIDF_feature_2  \\\n",
       "1                  3         0         0.003809         0.072029   \n",
       "2                  1         1         0.002652         0.052031   \n",
       "6                  3         0         0.006558         0.143947   \n",
       "\n",
       "   TFIDF_feature_3  TFIDF_feature_4  TFIDF_feature_5  TFIDF_feature_6  \\\n",
       "1        -0.060521        -0.069545         0.038071        -0.010755   \n",
       "2        -0.023326         0.020730        -0.052213         0.020922   \n",
       "6        -0.142753         0.012790        -0.079155        -0.090236   \n",
       "\n",
       "   TFIDF_feature_7  TFIDF_feature_8     ...      TFIDF_feature_16  \\\n",
       "1        -0.043477         0.086733     ...             -0.049895   \n",
       "2         0.003852         0.013506     ...             -0.004137   \n",
       "6         0.027279         0.008431     ...              0.134654   \n",
       "\n",
       "   TFIDF_feature_17  TFIDF_feature_18  TFIDF_feature_19  TFIDF_feature_20  \\\n",
       "1         -0.031660         -0.019666         -0.007581          0.021695   \n",
       "2         -0.014702         -0.046847          0.007405         -0.002259   \n",
       "6         -0.028019          0.004314          0.052799          0.047139   \n",
       "\n",
       "   log_price  brand  category_1  category_2  category_3  \n",
       "1   3.970292   3840        1541        1157        1155  \n",
       "2   2.397895   4522        5013        4678         641  \n",
       "6   4.174387     77        5013        4469        4767  \n",
       "\n",
       "[3 rows x 27 columns]"
      ]
     },
     "execution_count": 96,
     "metadata": {},
     "output_type": "execute_result"
    }
   ],
   "source": [
    "X_train.head(3)"
   ]
  },
  {
   "cell_type": "markdown",
   "metadata": {},
   "source": [
    "## Linear regression"
   ]
  },
  {
   "cell_type": "code",
   "execution_count": 155,
   "metadata": {},
   "outputs": [],
   "source": [
    "from sklearn import linear_model\n",
    "from sklearn.metrics import mean_squared_error, r2_score\n",
    "\n",
    "lm = linear_model.LinearRegression()\n",
    "model_lm = lm.fit(X_train, y_train)\n",
    "predictions_lm = lm.predict(X_valid)"
   ]
  },
  {
   "cell_type": "code",
   "execution_count": 156,
   "metadata": {},
   "outputs": [
    {
     "name": "stdout",
     "output_type": "stream",
     "text": [
      "Coefficients: \n",
      " [ -9.13054133e-02  -2.73011265e-01  -1.31741812e-01   1.06241049e-01\n",
      "   1.72017240e-01  -5.91075329e-01   3.57001526e-01   4.01748172e-01\n",
      "   4.00658637e-02   3.40429028e-01   5.60210028e-01  -1.20380918e+00\n",
      "  -9.14452971e-01  -1.10770322e+00   6.22157371e-01   1.07327720e+00\n",
      "  -4.82143705e-01   1.39665928e-01  -1.09569717e+00  -2.49619060e-02\n",
      "   6.75693818e-01  -6.55600114e-01   1.05700760e-05   7.00719025e-05\n",
      "  -1.70136481e-05  -1.97199261e-05]\n",
      "Mean squared error: 0.50\n",
      "R-squared: 0.11\n"
     ]
    },
    {
     "data": {
      "image/png": "[encoded data removed]",
      "text/plain": [
       "<matplotlib.figure.Figure at 0x234aced66d8>"
      ]
     },
     "metadata": {},
     "output_type": "display_data"
    }
   ],
   "source": [
    "# The coefficients\n",
    "print('Coefficients: \\n', lm.coef_)\n",
    "\n",
    "# The mean squared error\n",
    "print(\"Mean squared error: %.2f\"\n",
    "      % mean_squared_error(y_valid, predictions_lm))\n",
    "\n",
    "# Explained variance score: 1 is perfect prediction\n",
    "print('R-squared: %.2f' % r2_score(y_valid, predictions_lm))\n",
    "\n",
    "# Plot outputs\n",
    "plt.figure(figsize=(15,10))\n",
    "plt.scatter(range(100), y_valid[0:100],  color='black', label=\"Validation\")\n",
    "plt.plot(range(100), predictions_lm[0:100], color='blue', linewidth=3, label=\"Prediction\")\n",
    "\n",
    "plt.legend()\n",
    "\n",
    "plt.show()"
   ]
  },
  {
   "cell_type": "markdown",
   "metadata": {},
   "source": [
    "### SGDRegressor"
   ]
  },
  {
   "cell_type": "markdown",
   "metadata": {},
   "source": [
    "Linear model fitted by minimizing a regularized empirical loss with SGD\n",
    "\n",
    "SGD stands for Stochastic Gradient Descent: the gradient of the loss is estimated each sample at a time and the model is updated along the way with a decreasing strength schedule (aka learning rate).\n",
    "\n",
    "The regularizer is a penalty added to the loss function that shrinks model parameters towards the zero vector using either the squared euclidean norm L2 or the absolute norm L1 or a combination of both (Elastic Net). If the parameter update crosses the 0.0 value because of the regularizer, the update is truncated to 0.0 to allow for learning sparse models and achieve online feature selection.\n",
    "\n",
    "This implementation works with data represented as dense numpy arrays of floating point values for the features.\n",
    "\n",
    "Read more in the User Guide."
   ]
  },
  {
   "cell_type": "code",
   "execution_count": 172,
   "metadata": {},
   "outputs": [],
   "source": [
    "from sklearn.linear_model import SGDRegressor\n",
    "\n",
    "sgdr = linear_model.SGDRegressor(penalty='l1')\n",
    "sgdr.fit(X_train, y_train)\n",
    "predictions_sgdr = sgdr.predict(X_valid)"
   ]
  },
  {
   "cell_type": "code",
   "execution_count": 173,
   "metadata": {},
   "outputs": [
    {
     "data": {
      "text/plain": [
       "array([  2.76816113e+15,   1.29988632e+15,   3.81652864e+15, ...,\n",
       "         8.14526474e+14,   2.81655911e+15,   2.81765222e+15])"
      ]
     },
     "execution_count": 173,
     "metadata": {},
     "output_type": "execute_result"
    }
   ],
   "source": [
    "predictions_sgdr"
   ]
  },
  {
   "cell_type": "code",
   "execution_count": 164,
   "metadata": {},
   "outputs": [
    {
     "name": "stdout",
     "output_type": "stream",
     "text": [
      "Coefficients: \n",
      " [ -4.63891083e+11  -6.14102996e+11   2.77780999e+10  -2.82900440e+10\n",
      "  -7.21065307e+10   4.23044556e+10  -4.72077610e+10  -3.33777316e+10\n",
      "  -9.68914540e+09   8.58304631e+09  -8.41784908e+10  -2.96944572e+10\n",
      "   4.85398366e+10   1.86609124e+10  -1.16387527e+10   7.56973631e+10\n",
      "  -5.57283661e+10   4.88912492e+10   6.84134262e+10  -6.27503131e+10\n",
      "  -3.94659498e+10   6.62826351e+10   1.92837889e+11  -5.07282240e+11\n",
      "  -8.93841314e+11   2.16102846e+11]\n",
      "Mean squared error: 7396226186657253628491388157952.00\n",
      "R-squared: -13154871069161036253815220731904.00\n"
     ]
    },
    {
     "data": {
      "image/png": "[encoded data removed]",
      "text/plain": [
       "<matplotlib.figure.Figure at 0x234b1919c50>"
      ]
     },
     "metadata": {},
     "output_type": "display_data"
    }
   ],
   "source": [
    "# The coefficients\n",
    "print('Coefficients: \\n', sgdr.coef_)\n",
    "\n",
    "# The mean squared error\n",
    "print(\"Mean squared error: %.2f\"\n",
    "      % mean_squared_error(y_valid, predictions_sgdr))\n",
    "\n",
    "# Explained variance score: 1 is perfect prediction\n",
    "print('R-squared: %.2f' % r2_score(y_valid, predictions_sgdr))\n",
    "\n",
    "# Plot outputs\n",
    "plt.figure(figsize=(15,10))\n",
    "plt.scatter(range(100), y_valid[0:100],  color='black', label=\"Validation\")\n",
    "plt.plot(range(100), predictions_sgdr[0:100], color='blue', linewidth=3, label=\"Prediction\")\n",
    "\n",
    "plt.legend()\n",
    "\n",
    "plt.show()"
   ]
  },
  {
   "cell_type": "markdown",
   "metadata": {},
   "source": [
    "### Multi-layer Perceptron regressor"
   ]
  },
  {
   "cell_type": "code",
   "execution_count": 174,
   "metadata": {
    "collapsed": true
   },
   "outputs": [],
   "source": [
    "from sklearn.neural_network import MLPRegressor\n",
    "\n",
    "mlpr = MLPRegressor()\n",
    "model_mlpr = mlpr.fit(X_train, y_train)\n",
    "predictions_mlpr = mlpr.predict(X_valid)"
   ]
  },
  {
   "cell_type": "code",
   "execution_count": 176,
   "metadata": {
    "collapsed": true
   },
   "outputs": [],
   "source": [
    "# save the model to disk\n",
    "filename = 'finalized_model_mlpr.sav'\n",
    "pickle.dump(model_mlpr, open(filename, 'wb'))"
   ]
  },
  {
   "cell_type": "raw",
   "metadata": {},
   "source": [
    "# load the model from disk\n",
    "loaded_model = pickle.load(open(filename, 'rb'))"
   ]
  },
  {
   "cell_type": "code",
   "execution_count": 175,
   "metadata": {
    "scrolled": false
   },
   "outputs": [
    {
     "name": "stdout",
     "output_type": "stream",
     "text": [
      "Mean squared error: 0.48\n"
     ]
    },
    {
     "data": {
      "image/png": "[encoded data removed]",
      "text/plain": [
       "<matplotlib.figure.Figure at 0x234b3ff56d8>"
      ]
     },
     "metadata": {},
     "output_type": "display_data"
    }
   ],
   "source": [
    "# The mean squared error\n",
    "print(\"Mean squared error: %.2f\"\n",
    "      % mean_squared_error(y_valid, predictions_mlpr))\n",
    "\n",
    "\n",
    "# Plot outputs\n",
    "plt.figure(figsize=(15,10))\n",
    "plt.scatter(range(100), y_valid[0:100],  color='black', label=\"Validation\")\n",
    "plt.plot(range(100), predictions_mlpr[0:100], color='blue', linewidth=3, label=\"Prediction\")\n",
    "\n",
    "plt.legend()\n",
    "\n",
    "plt.show()"
   ]
  },
  {
   "cell_type": "code",
   "execution_count": null,
   "metadata": {
    "collapsed": true
   },
   "outputs": [],
   "source": []
  },
  {
   "cell_type": "code",
   "execution_count": null,
   "metadata": {
    "collapsed": true
   },
   "outputs": [],
   "source": []
  },
  {
   "cell_type": "code",
   "execution_count": null,
   "metadata": {
    "collapsed": true
   },
   "outputs": [],
   "source": []
  },
  {
   "cell_type": "code",
   "execution_count": null,
   "metadata": {
    "collapsed": true
   },
   "outputs": [],
   "source": []
  }
 ],
 "metadata": {
  "kernelspec": {
   "display_name": "Python [default]",
   "language": "python",
   "name": "python3"
  },
  "language_info": {
   "codemirror_mode": {
    "name": "ipython",
    "version": 3
   },
   "file_extension": ".py",
   "mimetype": "text/x-python",
   "name": "python",
   "nbconvert_exporter": "python",
   "pygments_lexer": "ipython3",
   "version": "3.5.3"
  }
 },
 "nbformat": 4,
 "nbformat_minor": 2
}
